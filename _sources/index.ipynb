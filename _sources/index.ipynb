{
 "cells": [
  {
   "cell_type": "markdown",
   "metadata": {},
   "source": [
    "# PolicyEngine-UK\n",
    "\n",
    "This book contains an introduction to using PolicyEngine-UK to model UK taxes and benefits. It is currently a work in progress and may be added to. PolicyEngine-UK is a microsimulation model of the UK tax and benefit system: it is a model which calculates variable values over UK entities from given policy parameters and structures. In practice, this gives it two main uses: calculating statistics under current tax and benefit law, and simulating effects of potential new changes to the legislation.\n",
    "\n",
    "We're grateful to the [UKMOD](https://www.iser.essex.ac.uk/research/projects/ukmod) team for publishing descriptions of their model; our ability to reference these descriptions accelerated OpenFisca UK's development. UKMOD is maintained, developed and managed by the Centre for Microsimulation and Policy Analysis at the Institute for Social and Economic Research (ISER), University of Essex.\n",
    "\n",
    "Code examples and outputs are re-run automatically on each new version of PolicyEngine-UK.\n",
    "\n",
    "## Short demo\n",
    "\n",
    "### Baseline estimation\n",
    "\n",
    "Calculating, for example, the total Income Tax liability by region can be done with the following code:"
   ]
  },
  {
   "cell_type": "code",
   "execution_count": 9,
   "metadata": {},
   "outputs": [
    {
     "data": {
      "text/plain": [
       "region\n",
       "LONDON              78.710210\n",
       "SOUTH_EAST          75.588976\n",
       "EAST_OF_ENGLAND     30.134433\n",
       "WEST_MIDLANDS       23.276691\n",
       "SCOTLAND            23.037309\n",
       "NORTH_WEST          20.306150\n",
       "SOUTH_WEST          17.589321\n",
       "YORKSHIRE           15.903155\n",
       "EAST_MIDLANDS       14.536368\n",
       "WALES               10.113785\n",
       "NORTH_EAST           7.983999\n",
       "NORTHERN_IRELAND     5.428561\n",
       "dtype: float64"
      ]
     },
     "execution_count": 9,
     "metadata": {},
     "output_type": "execute_result"
    }
   ],
   "source": [
    "from policyengine_uk import Microsimulation\n",
    "import pandas as pd\n",
    "\n",
    "ENHANCED_FRS = \"hf://policyengine/policyengine-uk-data/enhanced_frs_2022_23.h5\"\n",
    "\n",
    "sim = Microsimulation(dataset=ENHANCED_FRS)\n",
    "\n",
    "df = sim.calculate_dataframe(\n",
    "    [\n",
    "        \"household_id\", # If the first variable is household level, the dataframe will project everything to households. Same for people.\n",
    "        \"income_tax\",\n",
    "        \"region\",\n",
    "    ],\n",
    "    period=2025\n",
    ")\n",
    "\n",
    "df.groupby(\"region\").income_tax.sum().sort_values(ascending=False)/1e9 # Weights automatically applied"
   ]
  },
  {
   "cell_type": "markdown",
   "metadata": {},
   "source": [
    "### Reform evaluation\n",
    "\n",
    "Below is an example of simulating the effects of a reform (namely, increasing the basic rate of income tax from 20% to 23%)."
   ]
  },
  {
   "cell_type": "code",
   "execution_count": 10,
   "metadata": {
    "tags": [
     "hide-input"
    ]
   },
   "outputs": [
    {
     "data": {
      "text/plain": [
       "'Revenue: £21.3bn'"
      ]
     },
     "execution_count": 10,
     "metadata": {},
     "output_type": "execute_result"
    }
   ],
   "source": [
    "from policyengine_uk.model_api import *\n",
    "\n",
    "\n",
    "def change_tax_parameters(parameters):\n",
    "    parameters.gov.hmrc.income_tax.rates.uk.brackets[0].rate.update(\n",
    "        period=periods.period(\"year:2019:10\"), value=0.23\n",
    "    )\n",
    "    return parameters\n",
    "\n",
    "\n",
    "class reform(Reform):\n",
    "    def apply(self):\n",
    "        self.modify_parameters(change_tax_parameters)\n",
    "\n",
    "\n",
    "baseline = Microsimulation(dataset=ENHANCED_FRS)\n",
    "reformed = Microsimulation(dataset=ENHANCED_FRS, reform=reform)\n",
    "revenue = reformed.calculate(\"gov_balance\", 2025).sum() - baseline.calc(\"gov_balance\", 2025).sum()\n",
    "f\"Revenue: £{round(revenue / 1e+9, 1)}bn\""
   ]
  }
 ],
 "metadata": {
  "kernelspec": {
   "display_name": ".venv",
   "language": "python",
   "name": "python3"
  },
  "language_info": {
   "codemirror_mode": {
    "name": "ipython",
    "version": 3
   },
   "file_extension": ".py",
   "mimetype": "text/x-python",
   "name": "python",
   "nbconvert_exporter": "python",
   "pygments_lexer": "ipython3",
   "version": "3.11.11"
  }
 },
 "nbformat": 4,
 "nbformat_minor": 4
}
