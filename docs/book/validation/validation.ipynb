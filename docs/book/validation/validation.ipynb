{
 "cells": [
  {
   "cell_type": "markdown",
   "id": "b465e64a",
   "metadata": {},
   "source": [
    "# Validation\n",
    "\n",
    "PolicyEngine closely matches most official statistics on income, consumption and wealth."
   ]
  },
  {
   "cell_type": "code",
   "execution_count": 3,
   "id": "afa12877",
   "metadata": {
    "tags": [
     "hide-input"
    ]
   },
   "outputs": [
    {
     "data": {
      "application/vnd.plotly.v1+json": {
       "config": {
        "plotlyServerURL": "https://plot.ly"
       },
       "data": [
        {
         "alignmentgroup": "True",
         "customdata": [
          [
           "UKMOD estimates aggregate Tax Credits<br> to be £4.0 billion <br>in 2023."
          ],
          [
           "UKMOD estimates aggregate Pension Credit<br> to be £4.8 billion <br>in 2023."
          ],
          [
           "UKMOD estimates aggregate Housing Benefit<br> to be £9.0 billion <br>in 2023."
          ],
          [
           "UKMOD estimates aggregate Child Benefit<br> to be £11.4 billion <br>in 2023."
          ],
          [
           "UKMOD estimates aggregate Universal Credit<br> to be £43.7 billion <br>in 2023."
          ],
          [
           "UKMOD estimates aggregate National Insurance<br> to be £170.9 billion <br>in 2023."
          ],
          [
           "UKMOD estimates aggregate Income Tax<br> to be £235.8 billion <br>in 2023."
          ]
         ],
         "hovertemplate": "%{customdata[0]}",
         "legendgroup": "UKMOD",
         "marker": {
          "color": "#D8E6F3",
          "pattern": {
           "shape": ""
          }
         },
         "name": "UKMOD",
         "offsetgroup": "UKMOD",
         "orientation": "h",
         "showlegend": true,
         "textposition": "auto",
         "type": "bar",
         "x": [
          4.034,
          4.768,
          8.969,
          11.357,
          43.736,
          170.93200000000002,
          235.819
         ],
         "xaxis": "x",
         "y": [
          "Tax Credits",
          "Pension Credit",
          "Housing Benefit",
          "Child Benefit",
          "Universal Credit",
          "National Insurance",
          "Income Tax"
         ],
         "yaxis": "y"
        },
        {
         "alignmentgroup": "True",
         "customdata": [
          [
           "Official estimates aggregate Pension Credit<br> to be £5.4 billion <br>in 2023."
          ],
          [
           "Official estimates aggregate Tax Credits<br> to be £6.9 billion <br>in 2023."
          ],
          [
           "Official estimates aggregate Child Benefit<br> to be £12.2 billion <br>in 2023."
          ],
          [
           "Official estimates aggregate Housing Benefit<br> to be £14.8 billion <br>in 2023."
          ],
          [
           "Official estimates aggregate Universal Credit<br> to be £49.8 billion <br>in 2023."
          ],
          [
           "Official estimates aggregate National Insurance<br> to be £168.1 billion <br>in 2023."
          ],
          [
           "Official estimates aggregate Income Tax<br> to be £240.5 billion <br>in 2023."
          ]
         ],
         "hovertemplate": "%{customdata[0]}",
         "legendgroup": "Official",
         "marker": {
          "color": "#808080",
          "pattern": {
           "shape": ""
          }
         },
         "name": "Official",
         "offsetgroup": "Official",
         "orientation": "h",
         "showlegend": true,
         "textposition": "auto",
         "type": "bar",
         "x": [
          5.437,
          6.939,
          12.169,
          14.777,
          49.751,
          168.062899371,
          240.5370069
         ],
         "xaxis": "x",
         "y": [
          "Pension Credit",
          "Tax Credits",
          "Child Benefit",
          "Housing Benefit",
          "Universal Credit",
          "National Insurance",
          "Income Tax"
         ],
         "yaxis": "y"
        },
        {
         "alignmentgroup": "True",
         "customdata": [
          [
           "PolicyEngine estimates aggregate Pension Credit<br> to be £5.7 billion <br>in 2023."
          ],
          [
           "PolicyEngine estimates aggregate Tax Credits<br> to be £7.9 billion <br>in 2023."
          ],
          [
           "PolicyEngine estimates aggregate Child Benefit<br> to be £12.2 billion <br>in 2023."
          ],
          [
           "PolicyEngine estimates aggregate Housing Benefit<br> to be £14.6 billion <br>in 2023."
          ],
          [
           "PolicyEngine estimates aggregate Universal Credit<br> to be £48.5 billion <br>in 2023."
          ],
          [
           "PolicyEngine estimates aggregate National Insurance<br> to be £164.7 billion <br>in 2023."
          ],
          [
           "PolicyEngine estimates aggregate Income Tax<br> to be £211.2 billion <br>in 2023."
          ]
         ],
         "hovertemplate": "%{customdata[0]}",
         "legendgroup": "PolicyEngine",
         "marker": {
          "color": "#17354F",
          "pattern": {
           "shape": ""
          }
         },
         "name": "PolicyEngine",
         "offsetgroup": "PolicyEngine",
         "orientation": "h",
         "showlegend": true,
         "textposition": "auto",
         "type": "bar",
         "x": [
          5.716800014103888,
          7.8837541849403,
          12.168675106094156,
          14.564548934461316,
          48.475609170684386,
          164.69818933192445,
          211.1923993499099
         ],
         "xaxis": "x",
         "y": [
          "Pension Credit",
          "Tax Credits",
          "Child Benefit",
          "Housing Benefit",
          "Universal Credit",
          "National Insurance",
          "Income Tax"
         ],
         "yaxis": "y"
        }
       ],
       "frames": [
        {
         "data": [
          {
           "alignmentgroup": "True",
           "customdata": [
            [
             "UKMOD estimates aggregate Tax Credits<br> to be £4.0 billion <br>in 2023."
            ],
            [
             "UKMOD estimates aggregate Pension Credit<br> to be £4.8 billion <br>in 2023."
            ],
            [
             "UKMOD estimates aggregate Housing Benefit<br> to be £9.0 billion <br>in 2023."
            ],
            [
             "UKMOD estimates aggregate Child Benefit<br> to be £11.4 billion <br>in 2023."
            ],
            [
             "UKMOD estimates aggregate Universal Credit<br> to be £43.7 billion <br>in 2023."
            ],
            [
             "UKMOD estimates aggregate National Insurance<br> to be £170.9 billion <br>in 2023."
            ],
            [
             "UKMOD estimates aggregate Income Tax<br> to be £235.8 billion <br>in 2023."
            ]
           ],
           "hovertemplate": "model=UKMOD<br>year=2023<br>value=%{x}<br>variable=%{y}<extra></extra>",
           "legendgroup": "UKMOD",
           "marker": {
            "color": "#D8E6F3",
            "pattern": {
             "shape": ""
            }
           },
           "name": "UKMOD",
           "offsetgroup": "UKMOD",
           "orientation": "h",
           "showlegend": true,
           "textposition": "auto",
           "type": "bar",
           "x": [
            4.034,
            4.768,
            8.969,
            11.357,
            43.736,
            170.93200000000002,
            235.819
           ],
           "xaxis": "x",
           "y": [
            "Tax Credits",
            "Pension Credit",
            "Housing Benefit",
            "Child Benefit",
            "Universal Credit",
            "National Insurance",
            "Income Tax"
           ],
           "yaxis": "y"
          },
          {
           "alignmentgroup": "True",
           "customdata": [
            [
             "Official estimates aggregate Pension Credit<br> to be £5.4 billion <br>in 2023."
            ],
            [
             "Official estimates aggregate Tax Credits<br> to be £6.9 billion <br>in 2023."
            ],
            [
             "Official estimates aggregate Child Benefit<br> to be £12.2 billion <br>in 2023."
            ],
            [
             "Official estimates aggregate Housing Benefit<br> to be £14.8 billion <br>in 2023."
            ],
            [
             "Official estimates aggregate Universal Credit<br> to be £49.8 billion <br>in 2023."
            ],
            [
             "Official estimates aggregate National Insurance<br> to be £168.1 billion <br>in 2023."
            ],
            [
             "Official estimates aggregate Income Tax<br> to be £240.5 billion <br>in 2023."
            ]
           ],
           "hovertemplate": "model=Official<br>year=2023<br>value=%{x}<br>variable=%{y}<extra></extra>",
           "legendgroup": "Official",
           "marker": {
            "color": "#808080",
            "pattern": {
             "shape": ""
            }
           },
           "name": "Official",
           "offsetgroup": "Official",
           "orientation": "h",
           "showlegend": true,
           "textposition": "auto",
           "type": "bar",
           "x": [
            5.437,
            6.939,
            12.169,
            14.777,
            49.751,
            168.062899371,
            240.5370069
           ],
           "xaxis": "x",
           "y": [
            "Pension Credit",
            "Tax Credits",
            "Child Benefit",
            "Housing Benefit",
            "Universal Credit",
            "National Insurance",
            "Income Tax"
           ],
           "yaxis": "y"
          },
          {
           "alignmentgroup": "True",
           "customdata": [
            [
             "PolicyEngine estimates aggregate Pension Credit<br> to be £5.7 billion <br>in 2023."
            ],
            [
             "PolicyEngine estimates aggregate Tax Credits<br> to be £7.9 billion <br>in 2023."
            ],
            [
             "PolicyEngine estimates aggregate Child Benefit<br> to be £12.2 billion <br>in 2023."
            ],
            [
             "PolicyEngine estimates aggregate Housing Benefit<br> to be £14.6 billion <br>in 2023."
            ],
            [
             "PolicyEngine estimates aggregate Universal Credit<br> to be £48.5 billion <br>in 2023."
            ],
            [
             "PolicyEngine estimates aggregate National Insurance<br> to be £164.7 billion <br>in 2023."
            ],
            [
             "PolicyEngine estimates aggregate Income Tax<br> to be £211.2 billion <br>in 2023."
            ]
           ],
           "hovertemplate": "model=PolicyEngine<br>year=2023<br>value=%{x}<br>variable=%{y}<extra></extra>",
           "legendgroup": "PolicyEngine",
           "marker": {
            "color": "#17354F",
            "pattern": {
             "shape": ""
            }
           },
           "name": "PolicyEngine",
           "offsetgroup": "PolicyEngine",
           "orientation": "h",
           "showlegend": true,
           "textposition": "auto",
           "type": "bar",
           "x": [
            5.716800014103888,
            7.8837541849403,
            12.168675106094156,
            14.564548934461316,
            48.475609170684386,
            164.69818933192445,
            211.1923993499099
           ],
           "xaxis": "x",
           "y": [
            "Pension Credit",
            "Tax Credits",
            "Child Benefit",
            "Housing Benefit",
            "Universal Credit",
            "National Insurance",
            "Income Tax"
           ],
           "yaxis": "y"
          }
         ],
         "name": "2023"
        },
        {
         "data": [
          {
           "alignmentgroup": "True",
           "customdata": [
            [
             "UKMOD estimates aggregate Tax Credits<br> to be £2.3 billion <br>in 2024."
            ],
            [
             "UKMOD estimates aggregate Pension Credit<br> to be £5.0 billion <br>in 2024."
            ],
            [
             "UKMOD estimates aggregate Housing Benefit<br> to be £7.4 billion <br>in 2024."
            ],
            [
             "UKMOD estimates aggregate Child Benefit<br> to be £11.9 billion <br>in 2024."
            ],
            [
             "UKMOD estimates aggregate Universal Credit<br> to be £53.9 billion <br>in 2024."
            ],
            [
             "UKMOD estimates aggregate National Insurance<br> to be £173.4 billion <br>in 2024."
            ],
            [
             "UKMOD estimates aggregate Income Tax<br> to be £240.8 billion <br>in 2024."
            ]
           ],
           "hovertemplate": "model=UKMOD<br>year=2024<br>value=%{x}<br>variable=%{y}<extra></extra>",
           "legendgroup": "UKMOD",
           "marker": {
            "color": "#D8E6F3",
            "pattern": {
             "shape": ""
            }
           },
           "name": "UKMOD",
           "offsetgroup": "UKMOD",
           "orientation": "h",
           "showlegend": true,
           "textposition": "auto",
           "type": "bar",
           "x": [
            2.343,
            5.043,
            7.409,
            11.898,
            53.918,
            173.35899999999998,
            240.776
           ],
           "xaxis": "x",
           "y": [
            "Tax Credits",
            "Pension Credit",
            "Housing Benefit",
            "Child Benefit",
            "Universal Credit",
            "National Insurance",
            "Income Tax"
           ],
           "yaxis": "y"
          },
          {
           "alignmentgroup": "True",
           "customdata": [
            [
             "Official estimates aggregate Tax Credits<br> to be £3.8 billion <br>in 2024."
            ],
            [
             "Official estimates aggregate Pension Credit<br> to be £5.7 billion <br>in 2024."
            ],
            [
             "Official estimates aggregate Child Benefit<br> to be £12.6 billion <br>in 2024."
            ],
            [
             "Official estimates aggregate Housing Benefit<br> to be £14.4 billion <br>in 2024."
            ],
            [
             "Official estimates aggregate Universal Credit<br> to be £57.8 billion <br>in 2024."
            ],
            [
             "Official estimates aggregate National Insurance<br> to be £171.7 billion <br>in 2024."
            ],
            [
             "Official estimates aggregate Income Tax<br> to be £253.0 billion <br>in 2024."
            ]
           ],
           "hovertemplate": "model=Official<br>year=2024<br>value=%{x}<br>variable=%{y}<extra></extra>",
           "legendgroup": "Official",
           "marker": {
            "color": "#808080",
            "pattern": {
             "shape": ""
            }
           },
           "name": "Official",
           "offsetgroup": "Official",
           "orientation": "h",
           "showlegend": true,
           "textposition": "auto",
           "type": "bar",
           "x": [
            3.759,
            5.722,
            12.608,
            14.437,
            57.782,
            171.668965421,
            253.049631509
           ],
           "xaxis": "x",
           "y": [
            "Tax Credits",
            "Pension Credit",
            "Child Benefit",
            "Housing Benefit",
            "Universal Credit",
            "National Insurance",
            "Income Tax"
           ],
           "yaxis": "y"
          },
          {
           "alignmentgroup": "True",
           "customdata": [
            [
             "PolicyEngine estimates aggregate Pension Credit<br> to be £5.0 billion <br>in 2024."
            ],
            [
             "PolicyEngine estimates aggregate Tax Credits<br> to be £6.3 billion <br>in 2024."
            ],
            [
             "PolicyEngine estimates aggregate Housing Benefit<br> to be £13.2 billion <br>in 2024."
            ],
            [
             "PolicyEngine estimates aggregate Child Benefit<br> to be £17.2 billion <br>in 2024."
            ],
            [
             "PolicyEngine estimates aggregate Universal Credit<br> to be £56.6 billion <br>in 2024."
            ],
            [
             "PolicyEngine estimates aggregate National Insurance<br> to be £169.4 billion <br>in 2024."
            ],
            [
             "PolicyEngine estimates aggregate Income Tax<br> to be £230.9 billion <br>in 2024."
            ]
           ],
           "hovertemplate": "model=PolicyEngine<br>year=2024<br>value=%{x}<br>variable=%{y}<extra></extra>",
           "legendgroup": "PolicyEngine",
           "marker": {
            "color": "#17354F",
            "pattern": {
             "shape": ""
            }
           },
           "name": "PolicyEngine",
           "offsetgroup": "PolicyEngine",
           "orientation": "h",
           "showlegend": true,
           "textposition": "auto",
           "type": "bar",
           "x": [
            5.016642201046727,
            6.335329795314442,
            13.201956300617162,
            17.237807953930197,
            56.615312027237806,
            169.39473728503046,
            230.9414319051552
           ],
           "xaxis": "x",
           "y": [
            "Pension Credit",
            "Tax Credits",
            "Housing Benefit",
            "Child Benefit",
            "Universal Credit",
            "National Insurance",
            "Income Tax"
           ],
           "yaxis": "y"
          }
         ],
         "name": "2024"
        },
        {
         "data": [
          {
           "alignmentgroup": "True",
           "customdata": [
            [
             "UKMOD estimates aggregate Tax Credits<br> to be £0.0 billion <br>in 2025."
            ],
            [
             "UKMOD estimates aggregate Pension Credit<br> to be £5.1 billion <br>in 2025."
            ],
            [
             "UKMOD estimates aggregate Housing Benefit<br> to be £5.5 billion <br>in 2025."
            ],
            [
             "UKMOD estimates aggregate Child Benefit<br> to be £11.9 billion <br>in 2025."
            ],
            [
             "UKMOD estimates aggregate Universal Credit<br> to be £61.9 billion <br>in 2025."
            ],
            [
             "UKMOD estimates aggregate National Insurance<br> to be £176.6 billion <br>in 2025."
            ],
            [
             "UKMOD estimates aggregate Income Tax<br> to be £246.5 billion <br>in 2025."
            ]
           ],
           "hovertemplate": "model=UKMOD<br>year=2025<br>value=%{x}<br>variable=%{y}<extra></extra>",
           "legendgroup": "UKMOD",
           "marker": {
            "color": "#D8E6F3",
            "pattern": {
             "shape": ""
            }
           },
           "name": "UKMOD",
           "offsetgroup": "UKMOD",
           "orientation": "h",
           "showlegend": true,
           "textposition": "auto",
           "type": "bar",
           "x": [
            0,
            5.124,
            5.471,
            11.874,
            61.863,
            176.55700000000002,
            246.492
           ],
           "xaxis": "x",
           "y": [
            "Tax Credits",
            "Pension Credit",
            "Housing Benefit",
            "Child Benefit",
            "Universal Credit",
            "National Insurance",
            "Income Tax"
           ],
           "yaxis": "y"
          },
          {
           "alignmentgroup": "True",
           "customdata": [
            [
             "Official estimates aggregate Tax Credits<br> to be £0.2 billion <br>in 2025."
            ],
            [
             "Official estimates aggregate Pension Credit<br> to be £5.6 billion <br>in 2025."
            ],
            [
             "Official estimates aggregate Housing Benefit<br> to be £11.5 billion <br>in 2025."
            ],
            [
             "Official estimates aggregate Child Benefit<br> to be £12.5 billion <br>in 2025."
            ],
            [
             "Official estimates aggregate Universal Credit<br> to be £68.0 billion <br>in 2025."
            ],
            [
             "Official estimates aggregate National Insurance<br> to be £176.5 billion <br>in 2025."
            ],
            [
             "Official estimates aggregate Income Tax<br> to be £268.4 billion <br>in 2025."
            ]
           ],
           "hovertemplate": "model=Official<br>year=2025<br>value=%{x}<br>variable=%{y}<extra></extra>",
           "legendgroup": "Official",
           "marker": {
            "color": "#808080",
            "pattern": {
             "shape": ""
            }
           },
           "name": "Official",
           "offsetgroup": "Official",
           "orientation": "h",
           "showlegend": true,
           "textposition": "auto",
           "type": "bar",
           "x": [
            0.245,
            5.601,
            11.54,
            12.456,
            67.959,
            176.4756368,
            268.36672609
           ],
           "xaxis": "x",
           "y": [
            "Tax Credits",
            "Pension Credit",
            "Housing Benefit",
            "Child Benefit",
            "Universal Credit",
            "National Insurance",
            "Income Tax"
           ],
           "yaxis": "y"
          },
          {
           "alignmentgroup": "True",
           "customdata": [
            [
             "PolicyEngine estimates aggregate Tax Credits<br> to be £2.4 billion <br>in 2025."
            ],
            [
             "PolicyEngine estimates aggregate Pension Credit<br> to be £4.6 billion <br>in 2025."
            ],
            [
             "PolicyEngine estimates aggregate Housing Benefit<br> to be £10.8 billion <br>in 2025."
            ],
            [
             "PolicyEngine estimates aggregate Child Benefit<br> to be £17.2 billion <br>in 2025."
            ],
            [
             "PolicyEngine estimates aggregate Universal Credit<br> to be £59.9 billion <br>in 2025."
            ],
            [
             "PolicyEngine estimates aggregate National Insurance<br> to be £181.0 billion <br>in 2025."
            ],
            [
             "PolicyEngine estimates aggregate Income Tax<br> to be £255.8 billion <br>in 2025."
            ]
           ],
           "hovertemplate": "model=PolicyEngine<br>year=2025<br>value=%{x}<br>variable=%{y}<extra></extra>",
           "legendgroup": "PolicyEngine",
           "marker": {
            "color": "#17354F",
            "pattern": {
             "shape": ""
            }
           },
           "name": "PolicyEngine",
           "offsetgroup": "PolicyEngine",
           "orientation": "h",
           "showlegend": true,
           "textposition": "auto",
           "type": "bar",
           "x": [
            2.441733981512122,
            4.583001415580091,
            10.765335944529406,
            17.151028316398943,
            59.90255084924435,
            181.01423598843417,
            255.79033352598896
           ],
           "xaxis": "x",
           "y": [
            "Tax Credits",
            "Pension Credit",
            "Housing Benefit",
            "Child Benefit",
            "Universal Credit",
            "National Insurance",
            "Income Tax"
           ],
           "yaxis": "y"
          }
         ],
         "name": "2025"
        }
       ],
       "layout": {
        "barmode": "group",
        "font": {
         "color": "black",
         "family": "Roboto Serif"
        },
        "height": 600,
        "images": [
         {
          "sizex": 0.2,
          "sizey": 0.2,
          "source": "https://raw.githubusercontent.com/PolicyEngine/policyengine-app/master/src/images/logos/policyengine/blue.png",
          "x": 1,
          "xanchor": "right",
          "xref": "paper",
          "y": -0.15,
          "yanchor": "bottom",
          "yref": "paper"
         }
        ],
        "legend": {
         "title": {
          "text": ""
         },
         "tracegroupgap": 0
        },
        "margin": {
         "t": 60
        },
        "modebar": {
         "bgcolor": "rgba(0,0,0,0)",
         "color": "rgba(0,0,0,0)"
        },
        "sliders": [
         {
          "active": 0,
          "currentvalue": {
           "prefix": "year="
          },
          "len": 0.9,
          "pad": {
           "b": 10,
           "t": 60
          },
          "steps": [
           {
            "args": [
             [
              "2023"
             ],
             {
              "frame": {
               "duration": 0,
               "redraw": true
              },
              "fromcurrent": true,
              "mode": "immediate",
              "transition": {
               "duration": 0,
               "easing": "linear"
              }
             }
            ],
            "label": "2023",
            "method": "animate"
           },
           {
            "args": [
             [
              "2024"
             ],
             {
              "frame": {
               "duration": 0,
               "redraw": true
              },
              "fromcurrent": true,
              "mode": "immediate",
              "transition": {
               "duration": 0,
               "easing": "linear"
              }
             }
            ],
            "label": "2024",
            "method": "animate"
           },
           {
            "args": [
             [
              "2025"
             ],
             {
              "frame": {
               "duration": 0,
               "redraw": true
              },
              "fromcurrent": true,
              "mode": "immediate",
              "transition": {
               "duration": 0,
               "easing": "linear"
              }
             }
            ],
            "label": "2025",
            "method": "animate"
           }
          ],
          "x": 0.1,
          "xanchor": "left",
          "y": 0,
          "yanchor": "top"
         }
        ],
        "template": {
         "data": {
          "bar": [
           {
            "error_x": {
             "color": "#2a3f5f"
            },
            "error_y": {
             "color": "#2a3f5f"
            },
            "marker": {
             "line": {
              "color": "white",
              "width": 0.5
             },
             "pattern": {
              "fillmode": "overlay",
              "size": 10,
              "solidity": 0.2
             }
            },
            "type": "bar"
           }
          ],
          "barpolar": [
           {
            "marker": {
             "line": {
              "color": "white",
              "width": 0.5
             },
             "pattern": {
              "fillmode": "overlay",
              "size": 10,
              "solidity": 0.2
             }
            },
            "type": "barpolar"
           }
          ],
          "carpet": [
           {
            "aaxis": {
             "endlinecolor": "#2a3f5f",
             "gridcolor": "#C8D4E3",
             "linecolor": "#C8D4E3",
             "minorgridcolor": "#C8D4E3",
             "startlinecolor": "#2a3f5f"
            },
            "baxis": {
             "endlinecolor": "#2a3f5f",
             "gridcolor": "#C8D4E3",
             "linecolor": "#C8D4E3",
             "minorgridcolor": "#C8D4E3",
             "startlinecolor": "#2a3f5f"
            },
            "type": "carpet"
           }
          ],
          "choropleth": [
           {
            "colorbar": {
             "outlinewidth": 0,
             "ticks": ""
            },
            "type": "choropleth"
           }
          ],
          "contour": [
           {
            "colorbar": {
             "outlinewidth": 0,
             "ticks": ""
            },
            "colorscale": [
             [
              0,
              "#0d0887"
             ],
             [
              0.1111111111111111,
              "#46039f"
             ],
             [
              0.2222222222222222,
              "#7201a8"
             ],
             [
              0.3333333333333333,
              "#9c179e"
             ],
             [
              0.4444444444444444,
              "#bd3786"
             ],
             [
              0.5555555555555556,
              "#d8576b"
             ],
             [
              0.6666666666666666,
              "#ed7953"
             ],
             [
              0.7777777777777778,
              "#fb9f3a"
             ],
             [
              0.8888888888888888,
              "#fdca26"
             ],
             [
              1,
              "#f0f921"
             ]
            ],
            "type": "contour"
           }
          ],
          "contourcarpet": [
           {
            "colorbar": {
             "outlinewidth": 0,
             "ticks": ""
            },
            "type": "contourcarpet"
           }
          ],
          "heatmap": [
           {
            "colorbar": {
             "outlinewidth": 0,
             "ticks": ""
            },
            "colorscale": [
             [
              0,
              "#0d0887"
             ],
             [
              0.1111111111111111,
              "#46039f"
             ],
             [
              0.2222222222222222,
              "#7201a8"
             ],
             [
              0.3333333333333333,
              "#9c179e"
             ],
             [
              0.4444444444444444,
              "#bd3786"
             ],
             [
              0.5555555555555556,
              "#d8576b"
             ],
             [
              0.6666666666666666,
              "#ed7953"
             ],
             [
              0.7777777777777778,
              "#fb9f3a"
             ],
             [
              0.8888888888888888,
              "#fdca26"
             ],
             [
              1,
              "#f0f921"
             ]
            ],
            "type": "heatmap"
           }
          ],
          "heatmapgl": [
           {
            "colorbar": {
             "outlinewidth": 0,
             "ticks": ""
            },
            "colorscale": [
             [
              0,
              "#0d0887"
             ],
             [
              0.1111111111111111,
              "#46039f"
             ],
             [
              0.2222222222222222,
              "#7201a8"
             ],
             [
              0.3333333333333333,
              "#9c179e"
             ],
             [
              0.4444444444444444,
              "#bd3786"
             ],
             [
              0.5555555555555556,
              "#d8576b"
             ],
             [
              0.6666666666666666,
              "#ed7953"
             ],
             [
              0.7777777777777778,
              "#fb9f3a"
             ],
             [
              0.8888888888888888,
              "#fdca26"
             ],
             [
              1,
              "#f0f921"
             ]
            ],
            "type": "heatmapgl"
           }
          ],
          "histogram": [
           {
            "marker": {
             "pattern": {
              "fillmode": "overlay",
              "size": 10,
              "solidity": 0.2
             }
            },
            "type": "histogram"
           }
          ],
          "histogram2d": [
           {
            "colorbar": {
             "outlinewidth": 0,
             "ticks": ""
            },
            "colorscale": [
             [
              0,
              "#0d0887"
             ],
             [
              0.1111111111111111,
              "#46039f"
             ],
             [
              0.2222222222222222,
              "#7201a8"
             ],
             [
              0.3333333333333333,
              "#9c179e"
             ],
             [
              0.4444444444444444,
              "#bd3786"
             ],
             [
              0.5555555555555556,
              "#d8576b"
             ],
             [
              0.6666666666666666,
              "#ed7953"
             ],
             [
              0.7777777777777778,
              "#fb9f3a"
             ],
             [
              0.8888888888888888,
              "#fdca26"
             ],
             [
              1,
              "#f0f921"
             ]
            ],
            "type": "histogram2d"
           }
          ],
          "histogram2dcontour": [
           {
            "colorbar": {
             "outlinewidth": 0,
             "ticks": ""
            },
            "colorscale": [
             [
              0,
              "#0d0887"
             ],
             [
              0.1111111111111111,
              "#46039f"
             ],
             [
              0.2222222222222222,
              "#7201a8"
             ],
             [
              0.3333333333333333,
              "#9c179e"
             ],
             [
              0.4444444444444444,
              "#bd3786"
             ],
             [
              0.5555555555555556,
              "#d8576b"
             ],
             [
              0.6666666666666666,
              "#ed7953"
             ],
             [
              0.7777777777777778,
              "#fb9f3a"
             ],
             [
              0.8888888888888888,
              "#fdca26"
             ],
             [
              1,
              "#f0f921"
             ]
            ],
            "type": "histogram2dcontour"
           }
          ],
          "mesh3d": [
           {
            "colorbar": {
             "outlinewidth": 0,
             "ticks": ""
            },
            "type": "mesh3d"
           }
          ],
          "parcoords": [
           {
            "line": {
             "colorbar": {
              "outlinewidth": 0,
              "ticks": ""
             }
            },
            "type": "parcoords"
           }
          ],
          "pie": [
           {
            "automargin": true,
            "type": "pie"
           }
          ],
          "scatter": [
           {
            "fillpattern": {
             "fillmode": "overlay",
             "size": 10,
             "solidity": 0.2
            },
            "type": "scatter"
           }
          ],
          "scatter3d": [
           {
            "line": {
             "colorbar": {
              "outlinewidth": 0,
              "ticks": ""
             }
            },
            "marker": {
             "colorbar": {
              "outlinewidth": 0,
              "ticks": ""
             }
            },
            "type": "scatter3d"
           }
          ],
          "scattercarpet": [
           {
            "marker": {
             "colorbar": {
              "outlinewidth": 0,
              "ticks": ""
             }
            },
            "type": "scattercarpet"
           }
          ],
          "scattergeo": [
           {
            "marker": {
             "colorbar": {
              "outlinewidth": 0,
              "ticks": ""
             }
            },
            "type": "scattergeo"
           }
          ],
          "scattergl": [
           {
            "marker": {
             "colorbar": {
              "outlinewidth": 0,
              "ticks": ""
             }
            },
            "type": "scattergl"
           }
          ],
          "scattermapbox": [
           {
            "marker": {
             "colorbar": {
              "outlinewidth": 0,
              "ticks": ""
             }
            },
            "type": "scattermapbox"
           }
          ],
          "scatterpolar": [
           {
            "marker": {
             "colorbar": {
              "outlinewidth": 0,
              "ticks": ""
             }
            },
            "type": "scatterpolar"
           }
          ],
          "scatterpolargl": [
           {
            "marker": {
             "colorbar": {
              "outlinewidth": 0,
              "ticks": ""
             }
            },
            "type": "scatterpolargl"
           }
          ],
          "scatterternary": [
           {
            "marker": {
             "colorbar": {
              "outlinewidth": 0,
              "ticks": ""
             }
            },
            "type": "scatterternary"
           }
          ],
          "surface": [
           {
            "colorbar": {
             "outlinewidth": 0,
             "ticks": ""
            },
            "colorscale": [
             [
              0,
              "#0d0887"
             ],
             [
              0.1111111111111111,
              "#46039f"
             ],
             [
              0.2222222222222222,
              "#7201a8"
             ],
             [
              0.3333333333333333,
              "#9c179e"
             ],
             [
              0.4444444444444444,
              "#bd3786"
             ],
             [
              0.5555555555555556,
              "#d8576b"
             ],
             [
              0.6666666666666666,
              "#ed7953"
             ],
             [
              0.7777777777777778,
              "#fb9f3a"
             ],
             [
              0.8888888888888888,
              "#fdca26"
             ],
             [
              1,
              "#f0f921"
             ]
            ],
            "type": "surface"
           }
          ],
          "table": [
           {
            "cells": {
             "fill": {
              "color": "#EBF0F8"
             },
             "line": {
              "color": "white"
             }
            },
            "header": {
             "fill": {
              "color": "#C8D4E3"
             },
             "line": {
              "color": "white"
             }
            },
            "type": "table"
           }
          ]
         },
         "layout": {
          "annotationdefaults": {
           "arrowcolor": "#2a3f5f",
           "arrowhead": 0,
           "arrowwidth": 1
          },
          "autotypenumbers": "strict",
          "coloraxis": {
           "colorbar": {
            "outlinewidth": 0,
            "ticks": ""
           }
          },
          "colorscale": {
           "diverging": [
            [
             0,
             "#8e0152"
            ],
            [
             0.1,
             "#c51b7d"
            ],
            [
             0.2,
             "#de77ae"
            ],
            [
             0.3,
             "#f1b6da"
            ],
            [
             0.4,
             "#fde0ef"
            ],
            [
             0.5,
             "#f7f7f7"
            ],
            [
             0.6,
             "#e6f5d0"
            ],
            [
             0.7,
             "#b8e186"
            ],
            [
             0.8,
             "#7fbc41"
            ],
            [
             0.9,
             "#4d9221"
            ],
            [
             1,
             "#276419"
            ]
           ],
           "sequential": [
            [
             0,
             "#0d0887"
            ],
            [
             0.1111111111111111,
             "#46039f"
            ],
            [
             0.2222222222222222,
             "#7201a8"
            ],
            [
             0.3333333333333333,
             "#9c179e"
            ],
            [
             0.4444444444444444,
             "#bd3786"
            ],
            [
             0.5555555555555556,
             "#d8576b"
            ],
            [
             0.6666666666666666,
             "#ed7953"
            ],
            [
             0.7777777777777778,
             "#fb9f3a"
            ],
            [
             0.8888888888888888,
             "#fdca26"
            ],
            [
             1,
             "#f0f921"
            ]
           ],
           "sequentialminus": [
            [
             0,
             "#0d0887"
            ],
            [
             0.1111111111111111,
             "#46039f"
            ],
            [
             0.2222222222222222,
             "#7201a8"
            ],
            [
             0.3333333333333333,
             "#9c179e"
            ],
            [
             0.4444444444444444,
             "#bd3786"
            ],
            [
             0.5555555555555556,
             "#d8576b"
            ],
            [
             0.6666666666666666,
             "#ed7953"
            ],
            [
             0.7777777777777778,
             "#fb9f3a"
            ],
            [
             0.8888888888888888,
             "#fdca26"
            ],
            [
             1,
             "#f0f921"
            ]
           ]
          },
          "colorway": [
           "#636efa",
           "#EF553B",
           "#00cc96",
           "#ab63fa",
           "#FFA15A",
           "#19d3f3",
           "#FF6692",
           "#B6E880",
           "#FF97FF",
           "#FECB52"
          ],
          "font": {
           "color": "#2a3f5f"
          },
          "geo": {
           "bgcolor": "white",
           "lakecolor": "white",
           "landcolor": "white",
           "showlakes": true,
           "showland": true,
           "subunitcolor": "#C8D4E3"
          },
          "hoverlabel": {
           "align": "left"
          },
          "hovermode": "closest",
          "mapbox": {
           "style": "light"
          },
          "paper_bgcolor": "white",
          "plot_bgcolor": "white",
          "polar": {
           "angularaxis": {
            "gridcolor": "#EBF0F8",
            "linecolor": "#EBF0F8",
            "ticks": ""
           },
           "bgcolor": "white",
           "radialaxis": {
            "gridcolor": "#EBF0F8",
            "linecolor": "#EBF0F8",
            "ticks": ""
           }
          },
          "scene": {
           "xaxis": {
            "backgroundcolor": "white",
            "gridcolor": "#DFE8F3",
            "gridwidth": 2,
            "linecolor": "#EBF0F8",
            "showbackground": true,
            "ticks": "",
            "zerolinecolor": "#EBF0F8"
           },
           "yaxis": {
            "backgroundcolor": "white",
            "gridcolor": "#DFE8F3",
            "gridwidth": 2,
            "linecolor": "#EBF0F8",
            "showbackground": true,
            "ticks": "",
            "zerolinecolor": "#EBF0F8"
           },
           "zaxis": {
            "backgroundcolor": "white",
            "gridcolor": "#DFE8F3",
            "gridwidth": 2,
            "linecolor": "#EBF0F8",
            "showbackground": true,
            "ticks": "",
            "zerolinecolor": "#EBF0F8"
           }
          },
          "shapedefaults": {
           "line": {
            "color": "#2a3f5f"
           }
          },
          "ternary": {
           "aaxis": {
            "gridcolor": "#DFE8F3",
            "linecolor": "#A2B1C6",
            "ticks": ""
           },
           "baxis": {
            "gridcolor": "#DFE8F3",
            "linecolor": "#A2B1C6",
            "ticks": ""
           },
           "bgcolor": "white",
           "caxis": {
            "gridcolor": "#DFE8F3",
            "linecolor": "#A2B1C6",
            "ticks": ""
           }
          },
          "title": {
           "x": 0.05
          },
          "xaxis": {
           "automargin": true,
           "gridcolor": "#EBF0F8",
           "linecolor": "#EBF0F8",
           "ticks": "",
           "title": {
            "standoff": 15
           },
           "zerolinecolor": "#EBF0F8",
           "zerolinewidth": 2
          },
          "yaxis": {
           "automargin": true,
           "gridcolor": "#EBF0F8",
           "linecolor": "#EBF0F8",
           "ticks": "",
           "title": {
            "standoff": 15
           },
           "zerolinecolor": "#EBF0F8",
           "zerolinewidth": 2
          }
         }
        },
        "title": {
         "text": "Errors against official estimates"
        },
        "updatemenus": [
         {
          "buttons": [
           {
            "args": [
             null,
             {
              "frame": {
               "duration": 500,
               "redraw": true
              },
              "fromcurrent": true,
              "mode": "immediate",
              "transition": {
               "duration": 500,
               "easing": "linear"
              }
             }
            ],
            "label": "&#9654;",
            "method": "animate"
           },
           {
            "args": [
             [
              null
             ],
             {
              "frame": {
               "duration": 0,
               "redraw": true
              },
              "fromcurrent": true,
              "mode": "immediate",
              "transition": {
               "duration": 0,
               "easing": "linear"
              }
             }
            ],
            "label": "&#9724;",
            "method": "animate"
           }
          ],
          "direction": "left",
          "pad": {
           "r": 10,
           "t": 70
          },
          "showactive": false,
          "type": "buttons",
          "x": 0.1,
          "xanchor": "right",
          "y": 0,
          "yanchor": "top"
         }
        ],
        "width": 800,
        "xaxis": {
         "anchor": "y",
         "domain": [
          0,
          1
         ],
         "range": [
          -10,
          300
         ],
         "title": {
          "text": "Budgetary impact (£bn)"
         }
        },
        "yaxis": {
         "anchor": "x",
         "domain": [
          0,
          1
         ],
         "title": {
          "text": ""
         }
        }
       }
      }
     },
     "metadata": {},
     "output_type": "display_data"
    }
   ],
   "source": [
    "from policyengine_uk import Microsimulation\n",
    "\n",
    "sim = Microsimulation()\n",
    "\n",
    "# Below figures taken from the 2020-26 UKMOD country report.\n",
    "\n",
    "UKMOD_CASELOADS = {\n",
    "    \"Best Start Grant and Foods\": [32, 16, 63, 73, 79, 78, 76],\n",
    "    \"Child Benefit (c)\": [12226, 12047, 11368, 11136, 11074, 11036, 10928],\n",
    "    \"Child Benefit\": [6828, 6720, 6421, 6280, 6241, 6217, 6154],\n",
    "    \"Child and Working Tax Credits\": [1567, 1060, 814, 658, 380, 0, 0],\n",
    "    \"Council Tax Reduction (h)\": [5876, 5759, 5257, 5301, 5381, 5424, 5451],\n",
    "    \"Employment and Support Allowance (ib)\": [734, 647, 454, 368, 189, 0, 0],\n",
    "    \"Free School Meals\": [2940, 2905, 2956, 2978, 3004, 3038, 3092],\n",
    "    \"Healthy Start (food)\": [444, 429, 337, 340, 357, 350, 348],\n",
    "    \"Housing Benefit (h)\": [2478, 2185, 2068, 1873, 1561, 1192, 1183],\n",
    "    \"Income Support*\": [890, 752, 609, 482, 258, 0, 0],\n",
    "    \"Jobseeker's Allowance (cb)\": [63, 63, 25, 25, 25, 25, 25],\n",
    "    \"Pension Credit\": [1379, 1252, 1357, 1354, 1354, 1357, 1366],\n",
    "    \"School Clothing Grant\": [1200, 1162, 1029, 1063, 1105, 1139, 1126],\n",
    "    \"Scottish Carer's Allowance Supplement (i)\": [44, 44, 52, 52, 52, 52, 52],\n",
    "    \"Scottish Child Payment (c)\": [0, 35, 170, 181, 189, 193, 189],\n",
    "    \"Scottish Child Winter Heating Assistance (c)\": [0, 5, 3, 3, 3, 3, 3],\n",
    "    \"Sure Start Maternity Grant\": [37, 33, 72, 77, 83, 85, 84],\n",
    "    \"Universal Credit\": [4038, 4437, 4337, 4855, 5746, 6572, 6508],\n",
    "    \"Winter Fuel Allowance (h)\": [\n",
    "        11998,\n",
    "        11435,\n",
    "        11239,\n",
    "        11239,\n",
    "        11239,\n",
    "        11239,\n",
    "        11239,\n",
    "    ],\n",
    "    \"Benefit cap (Housing Benefit)\": [47, 47, 36, 22, 14, 2, 2],\n",
    "    \"Benefit cap (Universal Credit)\": [169, 166, 85, 77, 98, 108, 102],\n",
    "    \"Income tax (i)\": [28797, 29579, 31467, 32495, 32902, 33134, 33396],\n",
    "    \"Basic rate (i)\": [22815, 23039, 23776, 24076, 24285, 24296, 24326],\n",
    "    \"Higher rate (i)\": [3652, 4110, 5160, 5457, 5562, 5740, 5942],\n",
    "    \"Additional rate (i)\": [219, 273, 425, 816, 831, 859, 892],\n",
    "    \"NIC Employees (i)\": [22074, 22960, 23024, 22953, 22987, 23088, 23195],\n",
    "    \"NIC Self employed (i)\": [1194, 2271, 2613, 2601, 2613, 2696, 2721],\n",
    "    \"NIC Employers (i)\": [22504, 23266, 24183, 24380, 24442, 24490, 24534],\n",
    "}\n",
    "\n",
    "UKMOD_EXPENDITURE = {\n",
    "    \"Best Start Grant and Foods\": [12, 6, 28, 41, 45, 42, 42],\n",
    "    \"Child Benefit\": [11098, 10899, 10588, 11357, 11898, 11874, 11742],\n",
    "    \"Child and Working Tax Credits\": [8643, 5767, 4703, 4034, 2343, 0, 0],\n",
    "    \"Council Tax Reduction\": [7558, 7707, 7503, 7867, 8252, 8600, 8949],\n",
    "    \"Employment and Support Allowance (ib)\": [\n",
    "        5305,\n",
    "        4579,\n",
    "        3330,\n",
    "        2958,\n",
    "        1672,\n",
    "        0,\n",
    "        0,\n",
    "    ],\n",
    "    \"Free School Meals\": [3968, 3909, 4087, 4501, 4757, 4878, 4968],\n",
    "    \"Healthy Start (food)\": [126, 167, 133, 134, 140, 136, 136],\n",
    "    \"Housing Benefit\": [11004, 10127, 9712, 8969, 7409, 5471, 5431],\n",
    "    \"Income Support*\": [3411, 2873, 2452, 2170, 1268, 0, 0],\n",
    "    \"Jobseeker's Allowance (cb)\": [233, 234, 99, 109, 115, 116, 116],\n",
    "    \"Pension Credit\": [4370, 3831, 4355, 4768, 5043, 5124, 5258],\n",
    "    \"School Clothing Grant\": [284, 275, 248, 279, 303, 320, 316],\n",
    "    \"Scottish Carer's Allowance Supplement\": [30, 31, 25, 28, 29, 30, 30],\n",
    "    \"Scottish Child Payment\": [0, 24, 210, 399, 435, 446, 434],\n",
    "    \"Scottish Child Winter Heating Assistance\": [0, 1, 1, 1, 1, 1, 1],\n",
    "    \"Sure Start Maternity Grant\": [18, 17, 37, 40, 43, 44, 43],\n",
    "    \"Universal Credit\": [38122, 39612, 37137, 43736, 53918, 61863, 61072],\n",
    "    \"Winter Fuel Allowance\": [1990, 1916, 1903, 1903, 1903, 1903, 1903],\n",
    "    \"Benefit cap (Housing Benefit)\": [190, 308, 116, 95, 46, 1, 1],\n",
    "    \"Benefit cap (Universal Credit)\": [687, 646, 260, 230, 337, 362, 319],\n",
    "    \"Income tax\": [149405, 164580, 205344, 235819, 240776, 246492, 254345],\n",
    "    \"Basic rate\": [60906, 63871, 68330, 71151, 71947, 72366, 73341],\n",
    "    \"Higher rate\": [61991, 69490, 89864, 88729, 90784, 93507, 97261],\n",
    "    \"Additional rate\": [21054, 25370, 39717, 65776, 67352, 69688, 72670],\n",
    "    \"NIC Employees\": [55301, 60554, 65668, 61679, 62486, 63547, 64992],\n",
    "    \"NIC Self-employed\": [3773, 4152, 5887, 5493, 5591, 5698, 5827],\n",
    "    \"NIC Employers\": [78664, 86786, 103914, 103760, 105282, 107312, 110101],\n",
    "}\n",
    "\n",
    "import numpy as np\n",
    "\n",
    "for variable in UKMOD_EXPENDITURE:\n",
    "    UKMOD_EXPENDITURE[variable] = np.array(\n",
    "        [value / 1e3 for value in UKMOD_EXPENDITURE[variable]]\n",
    "    )\n",
    "\n",
    "# UKMOD values are from 2020-26\n",
    "\n",
    "import pandas as pd\n",
    "\n",
    "\n",
    "def estimate(variable: str):\n",
    "    return [\n",
    "        sim.calculate(variable, period=year, map_to=\"household\").sum() / 1e9\n",
    "        for year in range(2023, 2026)\n",
    "    ]\n",
    "\n",
    "\n",
    "from policyengine_uk.data.datasets.frs.calibration.loss import (\n",
    "    calibration_parameters,\n",
    ")\n",
    "from policyengine_core.parameters import get_parameter\n",
    "\n",
    "\n",
    "def official_estimate(parameter: str):\n",
    "    return (\n",
    "        np.array(\n",
    "            [\n",
    "                get_parameter(calibration_parameters, parameter)(\n",
    "                    f\"{year}-01-01\"\n",
    "                )\n",
    "                for year in range(2023, 2026)\n",
    "            ]\n",
    "        )\n",
    "        / 1e9\n",
    "    )\n",
    "\n",
    "\n",
    "df = pd.DataFrame()\n",
    "\n",
    "data = {\n",
    "    \"Income Tax\": {\n",
    "        \"Official\": official_estimate(\n",
    "            \"programs.income_tax.budgetary_impact.by_country.UNITED_KINGDOM\"\n",
    "        ),\n",
    "        \"PolicyEngine\": estimate(\"income_tax\"),\n",
    "        \"UKMOD\": UKMOD_EXPENDITURE[\"Income tax\"][3:6],\n",
    "    },\n",
    "    \"National Insurance\": {\n",
    "        \"Official\": official_estimate(\n",
    "            \"programs.total_NI.budgetary_impact.UNITED_KINGDOM\"\n",
    "        ),\n",
    "        \"PolicyEngine\": estimate(\"total_NI\"),\n",
    "        \"UKMOD\": UKMOD_EXPENDITURE[\"NIC Employees\"][3:6]\n",
    "        + UKMOD_EXPENDITURE[\"NIC Self-employed\"][3:6]\n",
    "        + UKMOD_EXPENDITURE[\"NIC Employers\"][3:6],\n",
    "    },\n",
    "    \"Universal Credit\": {\n",
    "        \"Official\": official_estimate(\n",
    "            \"programs.universal_credit.budgetary_impact.GREAT_BRITAIN\"\n",
    "        ),\n",
    "        \"PolicyEngine\": estimate(\"universal_credit\"),\n",
    "        \"UKMOD\": UKMOD_EXPENDITURE[\"Universal Credit\"][3:6],\n",
    "    },\n",
    "    \"Child Benefit\": {\n",
    "        \"Official\": official_estimate(\n",
    "            \"programs.child_benefit.budgetary_impact.UNITED_KINGDOM\"\n",
    "        ),\n",
    "        \"PolicyEngine\": estimate(\"child_benefit\"),\n",
    "        \"UKMOD\": UKMOD_EXPENDITURE[\"Child Benefit\"][3:6],\n",
    "    },\n",
    "    \"Tax Credits\": {\n",
    "        \"Official\": official_estimate(\n",
    "            \"programs.tax_credits.budgetary_impact.UNITED_KINGDOM\"\n",
    "        ),\n",
    "        \"PolicyEngine\": estimate(\"tax_credits\"),\n",
    "        \"UKMOD\": UKMOD_EXPENDITURE[\"Child and Working Tax Credits\"][3:6],\n",
    "    },\n",
    "    \"Housing Benefit\": {\n",
    "        \"Official\": official_estimate(\n",
    "            \"programs.housing_benefit.budgetary_impact.GREAT_BRITAIN\"\n",
    "        ),\n",
    "        \"PolicyEngine\": estimate(\"housing_benefit\"),\n",
    "        \"UKMOD\": UKMOD_EXPENDITURE[\"Housing Benefit\"][3:6],\n",
    "    },\n",
    "    \"Pension Credit\": {\n",
    "        \"Official\": official_estimate(\n",
    "            \"programs.pension_credit.budgetary_impact.GREAT_BRITAIN\"\n",
    "        ),\n",
    "        \"PolicyEngine\": estimate(\"pension_credit\"),\n",
    "        \"UKMOD\": UKMOD_EXPENDITURE[\"Pension Credit\"][3:6],\n",
    "    },\n",
    "}\n",
    "\n",
    "# DF columns: year, model, variable, value\n",
    "\n",
    "for variable in data:\n",
    "    for model in data[variable]:\n",
    "        for i, value in enumerate(data[variable][model]):\n",
    "            df = pd.concat(\n",
    "                [\n",
    "                    df,\n",
    "                    pd.DataFrame(\n",
    "                        {\n",
    "                            \"year\": 2023 + i,\n",
    "                            \"model\": model,\n",
    "                            \"variable\": variable,\n",
    "                            \"value\": value,\n",
    "                            \"error\": False,\n",
    "                            # Text should be: \"[model] estimates aggregate [variable] to be [value] in [year].\"\n",
    "                            \"text\": f\"{model} estimates aggregate {variable}<br> to be £{value:.1f} billion <br>in {2023 + i}.\",\n",
    "                        },\n",
    "                        index=[0],\n",
    "                    ),\n",
    "                ]\n",
    "            )\n",
    "        for i, value in enumerate(data[variable][model]):\n",
    "            if model != \"Official\":\n",
    "                df = pd.concat(\n",
    "                    [\n",
    "                        df,\n",
    "                        pd.DataFrame(\n",
    "                            {\n",
    "                                \"year\": 2023 + i,\n",
    "                                \"model\": model + \" (error)\",\n",
    "                                \"variable\": variable,\n",
    "                                \"value\": value - data[variable][\"Official\"][i],\n",
    "                                \"error\": True,\n",
    "                                # Text should be: \"[model]'s estimate of aggregate [variable] is [value] billion [higher/lower] than the official estimate in [year].\"\n",
    "                                \"text\": f\"{model}'s estimate of aggregate {variable}<br> is £{value - data[variable]['Official'][i]:.1f} billion {'higher' if value > data[variable]['Official'][i] else 'lower'} than the official <br>estimate in {2023 + i}.\",\n",
    "                            },\n",
    "                            index=[0],\n",
    "                        ),\n",
    "                    ]\n",
    "                )\n",
    "\n",
    "import plotly.express as px\n",
    "from policyengine_core.charts import format_fig, BLUE_COLOUR_SCALE, GRAY\n",
    "\n",
    "fig = (\n",
    "    px.bar(\n",
    "        df[~df.error][::-1].sort_values([\"year\", \"value\"]),\n",
    "        animation_frame=\"year\",\n",
    "        y=\"variable\",\n",
    "        x=\"value\",\n",
    "        color=\"model\",\n",
    "        barmode=\"group\",\n",
    "        orientation=\"h\",\n",
    "        custom_data=[\"text\"],\n",
    "        color_discrete_map={\n",
    "            \"Official\": GRAY,\n",
    "            # \"Official (error)\": GRAY,\n",
    "            \"PolicyEngine\": BLUE_COLOUR_SCALE[2],\n",
    "            # \"PolicyEngine (error)\": BLUE_COLOR_SCALE[3],\n",
    "            \"UKMOD\": BLUE_COLOUR_SCALE[0],\n",
    "            # \"UKMOD (error)\": BLUE_COLOR_SCALE[0],\n",
    "        },\n",
    "    )\n",
    "    .update_layout(\n",
    "        title=\"Errors against official estimates\",\n",
    "        xaxis_title=\"Budgetary impact (£bn)\",\n",
    "        yaxis_title=\"\",\n",
    "        legend_title=\"\",\n",
    "        xaxis_range=[-10, 300],\n",
    "    )\n",
    "    .update_traces(hovertemplate=\"%{customdata[0]}\")\n",
    ")\n",
    "fig = format_fig(fig)\n",
    "fig"
   ]
  }
 ],
 "metadata": {
  "kernelspec": {
   "display_name": "Python 3.9.12 ('base')",
   "language": "python",
   "name": "python3"
  },
  "language_info": {
   "codemirror_mode": {
    "name": "ipython",
    "version": 3
   },
   "file_extension": ".py",
   "mimetype": "text/x-python",
   "name": "python",
   "nbconvert_exporter": "python",
   "pygments_lexer": "ipython3",
   "version": "3.9.12"
  },
  "vscode": {
   "interpreter": {
    "hash": "40d3a090f54c6569ab1632332b64b2c03c39dcf918b08424e98f38b5ae0af88f"
   }
  }
 },
 "nbformat": 4,
 "nbformat_minor": 5
}
