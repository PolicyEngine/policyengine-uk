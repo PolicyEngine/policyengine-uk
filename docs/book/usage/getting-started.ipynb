{
 "cells": [
  {
   "attachments": {},
   "cell_type": "markdown",
   "metadata": {},
   "source": [
    "# Getting started\n",
    "\n",
    "PolicyEngine has two main use-cases:\n",
    "\n",
    "* I want to simulate policy over specific households.\n",
    "* I want to run microsimulation analyses over large datasets.\n",
    "\n",
    "Anyone can do the former in a few minutes of setup, but the UK's large household surveys are only available to academics, researchers and nonprofits, so getting set up takes a bit longer (and you should [get in touch](https://policyengine.org/uk/contact) so we can make it as fast as possible).\n",
    "\n",
    "If you can, please use Google Colab. It's free, and more importantly, it enables everyone to use the same computing environment, saving all the trouble of fiddling around with bad Python installations, etc. It means that the below snippet is all you need to use the full microsimulation model:\n",
    "\n",
    "```python\n",
    "!export HUGGING_FACE_TOKEN=<your_token>\n",
    "!pip install policyengine-uk\n",
    "```\n",
    "\n",
    "## Household-level analysis\n",
    "\n",
    "The PolicyEngine UK Python package can be installed just like any other. Here's an example below.\n",
    "\n",
    "First, we need to install the package (please make sure you're using Python >=3.7):\n",
    "\n",
    "```bash\n",
    "pip install policyengine-uk\n",
    "```\n",
    "\n",
    "### Simulating current law\n",
    "\n",
    "This example shows how to define a situation (you need to define the people, benefit units and households, and their variables in specific time periods) and simulate the current tax-benefit system."
   ]
  },
  {
   "cell_type": "code",
   "execution_count": 1,
   "metadata": {},
   "outputs": [
    {
     "name": "stderr",
     "output_type": "stream",
     "text": [
      "/Users/nikhilwoodruff/policyengine/policyengine-uk/.venv/lib/python3.11/site-packages/tqdm/auto.py:21: TqdmWarning: IProgress not found. Please update jupyter and ipywidgets. See https://ipywidgets.readthedocs.io/en/stable/user_install.html\n",
      "  from .autonotebook import tqdm as notebook_tqdm\n"
     ]
    },
    {
     "data": {
      "text/plain": [
       "array([3486.], dtype=float32)"
      ]
     },
     "execution_count": 1,
     "metadata": {},
     "output_type": "execute_result"
    }
   ],
   "source": [
    "# The `Simulation` class is the most important class in PolicyEngine- it runs the actual simulation.\n",
    "\n",
    "from policyengine_uk import Simulation\n",
    "\n",
    "situation = {\n",
    "    \"people\": {\n",
    "        \"person\": {\n",
    "            \"age\": {2025: 30},\n",
    "            \"employment_income\": {2025: 30_000},\n",
    "        },\n",
    "    },\n",
    "    \"benunits\": {\n",
    "        \"benunit\": {\n",
    "            \"members\": [\"person\"],\n",
    "        },\n",
    "    },\n",
    "    \"households\": {\n",
    "        \"household\": {\n",
    "            \"members\": [\"person\"],\n",
    "        }\n",
    "    },\n",
    "}\n",
    "\n",
    "simulation = Simulation(situation=situation)\n",
    "\n",
    "simulation.calculate(\"income_tax\", 2025)"
   ]
  },
  {
   "attachments": {},
   "cell_type": "markdown",
   "metadata": {},
   "source": [
    "### Simulating a policy reform\n",
    "\n",
    "Now, let's simulate a policy reform that changes a policy parameter. The [OpenFisca documentation](https://openfisca.org/doc) has some excellent documentation on the syntax here."
   ]
  },
  {
   "cell_type": "code",
   "execution_count": 2,
   "metadata": {},
   "outputs": [
    {
     "name": "stdout",
     "output_type": "stream",
     "text": [
      "Raising the basic rate to 25% would increase this person's income tax by £871.50\n"
     ]
    }
   ],
   "source": [
    "from policyengine_core.model_api import *\n",
    "\n",
    "\n",
    "increase_basic_rate = {\"gov.hmrc.income_tax.rates.uk[0].rate\": 0.25}\n",
    "\n",
    "\n",
    "baseline = Simulation(situation=situation)\n",
    "reformed = Simulation(situation=situation, reform=increase_basic_rate)\n",
    "\n",
    "baseline_income_tax = baseline.calculate(\"income_tax\", 2025)[0]\n",
    "reformed_income_tax = reformed.calculate(\"income_tax\", 2025)[0]\n",
    "\n",
    "print(\n",
    "    f\"Raising the basic rate to 25% would increase this person's income tax by £{reformed_income_tax - baseline_income_tax:.2f}\"\n",
    ")"
   ]
  },
  {
   "attachments": {},
   "cell_type": "markdown",
   "metadata": {},
   "source": [
    "## Microsimulation analysis\n",
    "\n",
    "PolicyEngine UK has all the code needed to actually generate the microsimulation datasets from the raw dataset files if you have them, but it's easiest to download our final datasets. To do this, you'll need to do the following:\n",
    "\n",
    "* Make sure you've got a HuggingFace account.\n",
    "* Get a personal access token via the settings.\n",
    "* Set HUGGING_FACE_TOKEN as an environment variable.\n",
    "\n",
    "For example, in a bash shell:\n",
    "\n",
    "```bash\n",
    "export HUGGING_FACE_TOKEN=your_token_here\n",
    "```\n",
    "\n",
    "If you don't want to set it, it'll also just prompt you when you try to access the data.\n",
    "\n",
    "### Getting set up\n",
    "\n",
    "Now the datasets will be downloaded automatically as you select them. Here's an example:"
   ]
  },
  {
   "cell_type": "code",
   "execution_count": 3,
   "metadata": {},
   "outputs": [
    {
     "data": {
      "text/plain": [
       "79.42656804925272"
      ]
     },
     "execution_count": 3,
     "metadata": {},
     "output_type": "execute_result"
    }
   ],
   "source": [
    "from policyengine_uk import Microsimulation\n",
    "\n",
    "sim = Microsimulation(dataset=\"hf://policyengine/policyengine-uk-data/enhanced_frs_2022_23.h5\")\n",
    "\n",
    "# The hf:// points to the private data-\n",
    "# hf:// <- go get the data from huggingface\n",
    "# policyengine/policyengine-uk-data <- the repo\n",
    "# enhanced_frs_2022_23.h5 <- the file in the repo\n",
    "\n",
    "sim.calculate(\"universal_credit\", 2025).sum() / 1e9"
   ]
  },
  {
   "attachments": {},
   "cell_type": "markdown",
   "metadata": {},
   "source": [
    "### Running reform analyses\n",
    "\n",
    "Reforms work in exactly the same way as in the household-level analysis above. Here's the same example reform:"
   ]
  },
  {
   "cell_type": "code",
   "execution_count": 4,
   "metadata": {},
   "outputs": [
    {
     "name": "stdout",
     "output_type": "stream",
     "text": [
      "Raising the basic rate to 25% would raise the UK £35.54bn per year\n"
     ]
    }
   ],
   "source": [
    "ENHANCED_FRS = \"hf://policyengine/policyengine-uk-data/enhanced_frs_2022_23.h5\"\n",
    "\n",
    "baseline = Microsimulation(dataset=ENHANCED_FRS)  # Enhanced FRS 2022 by default\n",
    "reformed = Microsimulation(dataset=ENHANCED_FRS, reform=increase_basic_rate)\n",
    "\n",
    "revenue = (\n",
    "    -(\n",
    "        reformed.calculate(\"household_net_income\", 2025)\n",
    "        - baseline.calculate(\"household_net_income\", 2025)\n",
    "    ).sum()\n",
    "    / 1e9\n",
    ")\n",
    "\n",
    "print(\n",
    "    f\"Raising the basic rate to 25% would raise the UK £{revenue:.2f}bn per year\"\n",
    ")"
   ]
  },
  {
   "attachments": {},
   "cell_type": "markdown",
   "metadata": {},
   "source": [
    "The [PolicyEngine web app](https://policyengine.org) actually has a helpful tool for this: if you can generate a household or reform on the app, scroll down in the bottom left to the `Reproduce in Python` section, and you'll see an automatically-generated code snippet to reproduce the same analysis in Python."
   ]
  }
 ],
 "metadata": {
  "kernelspec": {
   "display_name": ".venv",
   "language": "python",
   "name": "python3"
  },
  "language_info": {
   "codemirror_mode": {
    "name": "ipython",
    "version": 3
   },
   "file_extension": ".py",
   "mimetype": "text/x-python",
   "name": "python",
   "nbconvert_exporter": "python",
   "pygments_lexer": "ipython3",
   "version": "3.11.11"
  },
  "orig_nbformat": 4
 },
 "nbformat": 4,
 "nbformat_minor": 2
}
